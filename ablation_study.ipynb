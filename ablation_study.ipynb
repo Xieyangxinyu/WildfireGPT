{
 "cells": [
  {
   "cell_type": "markdown",
   "metadata": {},
   "source": [
    "First we include some helper functions to interact with OpenAI's API. "
   ]
  },
  {
   "cell_type": "code",
   "execution_count": 1,
   "metadata": {},
   "outputs": [
    {
     "name": "stderr",
     "output_type": "stream",
     "text": [
      "/Users/yangxinyuxie/Library/Caches/pypoetry/virtualenvs/src-KW4cdEL7-py3.11/lib/python3.11/site-packages/tqdm/auto.py:21: TqdmWarning: IProgress not found. Please update jupyter and ipywidgets. See https://ipywidgets.readthedocs.io/en/stable/user_install.html\n",
      "  from .autonotebook import tqdm as notebook_tqdm\n"
     ]
    }
   ],
   "source": [
    "from src.config import client, model\n",
    "from src.utils import load_config\n",
    "from src.assistants.analyst.literature import literature_search\n",
    "import json\n",
    "import os\n",
    "\n",
    "def create_message_and_run_analyst_module(assistant, instructions, user_prompt, thread = None, save_tool_request_path = None):\n",
    "    '''\n",
    "    This function is a slightly simplified version of how the analyst module would be in WildfireGPT.\n",
    "    In this experiment, we only seek to understand how the changes in user profile affect the retrieved literature and the recommendations.\n",
    "    '''\n",
    "    if thread is None:\n",
    "        thread = client.beta.threads.create()\n",
    "    client.beta.threads.messages.create(\n",
    "        thread_id=thread.id,\n",
    "        role=\"user\",\n",
    "        content=user_prompt\n",
    "    )\n",
    "    run = client.beta.threads.runs.create_and_poll(\n",
    "        thread_id=thread.id,\n",
    "        assistant_id=assistant.id,\n",
    "        instructions=instructions,\n",
    "        parallel_tool_calls=False\n",
    "    )\n",
    "\n",
    "    tool_outputs = []\n",
    "\n",
    "    if run.required_action is not None:\n",
    "        # Loop through each tool in the required action section\n",
    "        for tool in run.required_action.submit_tool_outputs.tool_calls:\n",
    "            if tool.function.name == \"literature_search\":\n",
    "                function_args = json.loads(tool.function.arguments)\n",
    "                print(function_args)\n",
    "                if save_tool_request_path is not None:\n",
    "                    with open(save_tool_request_path, \"w\") as f:\n",
    "                        f.write(json.dumps(function_args))\n",
    "                function_response = literature_search(**function_args)\n",
    "                path = 'src/assistants/analyst/appendix/literature.md'\n",
    "                with open(path, \"r\") as f:\n",
    "                    appendix = f.read()\n",
    "                    function_response += appendix\n",
    "                tool_outputs.append({\n",
    "                    \"tool_call_id\": tool.id,\n",
    "                    \"output\": function_response\n",
    "                })\n",
    "\n",
    "        if len(tool_outputs) > 0:\n",
    "            run = client.beta.threads.runs.submit_tool_outputs(\n",
    "                thread_id=thread.id,\n",
    "                run_id=run.id,\n",
    "                tool_outputs=tool_outputs,\n",
    "            )\n",
    "\n",
    "    return thread\n",
    "    \n",
    "\n",
    "def generate_plan(profile):\n",
    "    '''\n",
    "    This function is a slightly simplified version of how the planning module would be in WildfireGPT.\n",
    "    In this experiment, we only seek to understand how the changes in user profile affect the retrieved literature and the recommendations.\n",
    "    '''\n",
    "    plan_config = load_config(\"src/assistants/plan/config.yml\")\n",
    "    plan_instruction = f\"{plan_config['instructions']}\\n{plan_config['available_datasets']}\\n{plan_config['example']}\\nHere is the information about your client: {profile}\"\n",
    "    completion = client.chat.completions.create(\n",
    "        model=model,\n",
    "        messages=[\n",
    "            {\"role\": \"system\", \"content\": plan_instruction},\n",
    "            {\"role\": \"user\", \"content\": \"Please explain your plan to me. Simply output the plan and nothing else.\"},\n",
    "        ]\n",
    "    )\n",
    "    return completion.choices[0].message.content\n",
    "\n",
    "\n",
    "# There are five different user profiles that we will be using in this ablation experiment. \n",
    "\n",
    "\n",
    "template_profile = '''- **Profession:** {profession} in Virginia.\n",
    "- **Concern:** Managing the forest, keeping it healthy, while {concern}, and protecting properties from potential wildfires.\n",
    "- **Location:** Near Covington, VA with Latitude 37.7935 and Longitude -79.9939.\n",
    "- **Time:** Recommendations to be implemented within the next 5 to 10 years.\n",
    "- **Scope:** Management of the forest and properties to maximize {scope}, and protect against potential wildfires.\n",
    "'''\n",
    "\n",
    "profiles = {\n",
    "    \"homeowner\": {\n",
    "        \"profession\": \"Homeowner\",\n",
    "        \"concern\": \"maximizing marketable species\",\n",
    "        \"scope\": \"health and marketable species\",\n",
    "    },\n",
    "    \"civil_engineer\": \n",
    "    {\n",
    "        \"profession\": \"Civil Engineer\",\n",
    "        \"concern\": \"ensuring structural and infrastructural resilience\",\n",
    "        \"scope\": \"drainage efficiency and slope stability\",\n",
    "    },\n",
    "    \"ecologist\": \n",
    "    {\n",
    "        \"profession\": \"Ecologist\",\n",
    "        \"concern\": \"maintaining biodiversity and ecosystem services\",\n",
    "        \"scope\": \"ecological resilience and habitat connectivity\",\n",
    "    },\n",
    "    \"emergency_manager\": \n",
    "    {\n",
    "        \"profession\": \"Emergency Manager\",\n",
    "        \"concern\": \"establishing defendable space and evacuation corridors\",\n",
    "        \"scope\": \"emergency access and response capabilities\",\n",
    "    },\n",
    "    \"power_grid_manager\": \n",
    "    {\n",
    "        \"profession\": \"Power Grid Manager\",\n",
    "        \"concern\": \"maintaining transmission line clearance and grid resilience\",\n",
    "        \"scope\": \"power distribution reliability and access\",\n",
    "    },\n",
    "}"
   ]
  },
  {
   "cell_type": "markdown",
   "metadata": {},
   "source": [
    "In the code block below, we print the original instruction to the Analyst Module from the case study `case_studies/Private Property Protection`. \n",
    "\n",
    "In the ablation study below, we modify the user profile slightly to see how the model's predictions change. Specifically, we try to observe changes in \n",
    "- the plan proposed by the planning module with the updated user profile\n",
    "- the content of the literature review generated by the analyst module with the updated user profile and plan\n",
    "- the content of the recommendation generated by the analyst module with the updated user profile, plan, and literature review\n",
    "\n",
    "There are five different user profiles that we will be using in this ablation experiment. They are: homeowner, civil_engineer, ecologist, emergency_manager, and firefighter. You can see the minimal level of changes made to the user profile in the code block above.\n",
    "\n",
    "We will save everything under the folder `ablation_study` in the current working directory for reference and comparison."
   ]
  },
  {
   "cell_type": "code",
   "execution_count": 2,
   "metadata": {},
   "outputs": [
    {
     "name": "stdout",
     "output_type": "stream",
     "text": [
      "As an expert consultant specializing in wildfire risks, your role is to assist your client with various aspects of wildfire and climate change understanding and mitigation. Effectively engage with your client in order to address their concerns.\n",
      "Here is the information about your client: \n",
      "- **Profession:** Homeowner in Virginia.\n",
      "- **Concern:** Managing the forest, keeping it healthy, while maximizing marketable species, and protecting properties from potential wildfires.\n",
      "- **Location:** Near Covington, VA with Latitude 37.7935 and Longitude -79.9939.\n",
      "- **Time:** Recommendations to be implemented within the next 5 to 10 years.\n",
      "- **Scope:** Management of the forest and properties to maximize health and marketable species, and protect against potential wildfires.\n",
      "- **Vegetation and Forest Composition:** Conifer and broadleaf species, with a focus on maintaining oak and cherry trees.\n",
      "- **Fire History and Management Practices:** Uncertain about recent wildfires; no specific past management practices mentioned.\n",
      "- **Economic Goals and Marketable Species:** Focus on the health and productivity of oak and cherry trees.\n",
      "- **Additional Consideration:** Suggestions provided for managing forest areas close to the house, with strategies to mitigate wildfire risks at the urban-wildfire interface.\n",
      "Here is your plan to assist your clinet:\n",
      "**Step 1: Data Analysis with Recent Fire Incident Data**\n",
      "Given your concern about potential wildfire risks in the last 5-10 years and the need for immediate implementation of recommendations, I will analyze the Recent fire incident data for the Covington, VA area. This analysis will focus on identifying the frequency, severity, and proximity of recent wildfire incidents to your property, which will help in understanding current risk levels and trends.\n",
      "\n",
      "**Step 2: Literature Search on Forest Management and Wildfire Mitigation**\n",
      "Based on your specific interest in maintaining the health of oak and cherry trees and managing the forest near the urban-wildfire interface, I'll search for scientific literature. This includes effective forest management practices applicable to your forest composition, specifically focusing on conifer and broadleaf species. Additionally, I will look into strategies for wildfire risk mitigation at the urban-wildforest interface, such as creating defensible spaces, the use of fire-resistant vegetation, and community-level wildfire preparedness.\n",
      "\n",
      "**Step 3: Recommendations**\n",
      "Utilizing insights gained from both the data analysis and the literature search, I will provide recommendations that align with your goals. These will include forest management practices to enhance the health and productivity of oak and cherry trees, as well as specific actions you can take to mitigate wildfire risks. This may involve strategic tree removal, controlled burns, or adjustments to the landscaping closer to your home to enhance fire resistance.\n"
     ]
    }
   ],
   "source": [
    "thread_messages = client.beta.threads.messages.list(\"thread_KKbnKKvkPOFivz8r5ZAYPUCn\")\n",
    "assistant = client.beta.assistants.retrieve(thread_messages.data[0].assistant_id)\n",
    "print(assistant.instructions)"
   ]
  },
  {
   "cell_type": "markdown",
   "metadata": {},
   "source": [
    "We use a straightforward prompt for recommendations to show the effect of the user profile on the model's predictions.\n",
    "> Develop recommendations to enhance forest resilience against wildfires.\n",
    "\n",
    "> Develop recommendations for species selection and planting strategies to enhance forest resilience against wildfires.\n",
    "\n",
    "We will first run the model with this prompt only and then with the different versions of the user profile and prompt to see how the model's predictions change."
   ]
  },
  {
   "cell_type": "code",
   "execution_count": 3,
   "metadata": {},
   "outputs": [
    {
     "name": "stdout",
     "output_type": "stream",
     "text": [
      "Enhancing forest resilience against wildfires is crucial for preserving biodiversity, protecting infrastructure, and mitigating climate change impacts. Here is a multi-faceted approach to increasing forest resilience:\n",
      "\n",
      "1. **Fuel Management**: \n",
      "   - **Thinning and Pruning**: Reduce forest density through thinning and pruning, which can lower fire intensity by removing small trees and underbrush that serve as ladder fuels. \n",
      "   - **Controlled Burns**: Implement controlled (prescribed) burns to reduce available fuels. This needs to be carefully managed to minimize ecological damage.\n",
      "   - **Remove Dead Wood**: Clear dead wood and other debris that can intensify fires.\n",
      "\n",
      "2. **Forest Planning and Layout**:\n",
      "   - **Strategic Planting**: Use fire-resilient tree species in reforestation efforts and diversify age classes and species to create a more heterogeneous landscape which is less susceptible to widespread fires.\n",
      "   - **Buffer Zones**: Develop buffer zones using less flammable species around urban interfaces and critical infrastructure.\n",
      "   - **Roads and Barriers**: Maintain and expand firebreaks and utilize roads as additional barriers.\n",
      "\n",
      "3. **Technological and Monitoring Solutions**:\n",
      "   - **Early Detection Systems**: Employ technologies like satellite imaging and drones for early detection of wildfires, allowing quicker response times.\n",
      "   - **Fire Weather Stations**: Install weather stations in fire-prone areas to monitor conditions conducive to wildfires.\n",
      "   - **AI and Data Analysis**: Use artificial intelligence to predict fire patterns and high-risk areas.\n",
      "\n",
      "4. **Policy and Regulations**:\n",
      "   - **Building Codes**: Enforce fire-resistant materials in construction and proper landscaping practices in fire-prone zoe as.\n",
      "   - **Land Use Planning**: Integrate fire risk into land use planning decisions, restricting development in the most vulnerable areas.\n",
      "   - **Public Policies**: Develop clear policies on forest management that prioritize long-term health and fire resilience of forest ecosystems.\n",
      "\n",
      "5. **Community Involvement and Education**:\n",
      "   - **Public Education**: Increase community awareness about the risks and prevention of wildfires. \n",
      "   - **Training Programs**: Train local firefighters and communities in fire suppression techniques and evacuation procedures.\n",
      "   - **Engagement Programs**: Involve local communities in decision-making processes related to forest management and fire prevention.\n",
      "\n",
      "6. **Collaboration and Partnerships**:\n",
      "   - **Interagency Collaboration**: Foster coordination among forestry services, firefighting agencies, and wildlife organizations.\n",
      "   - **International Cooperation**: Exchange knowledge and strategies on fire management with international bodies and learn from global best practices.\n",
      "   - **Private Sector Engagement**: Partner with the private sector to leverage resources, technology, and innovations in fire management.\n",
      "\n",
      "7. **Adaptive Management**:\n",
      "   - **Research**: Support continuous research on fire ecology, forest management, and climate change to adapt practices to new insights and changing conditions.\n",
      "   - **Feedback Loops**: Use a science-based approach to monitor outcomes of management practices and adapt them based on what is learned.\n",
      "\n",
      "8. **Climate Change Mitigation and Adaptation**:\n",
      "   - **Sustainable Practices**: Address broader environmental challenges that contribute to increased fire risk, such as climate change, by promoting sustainable forest management and reducing carbon footprints.\n",
      "   - **Resilience Building**: Enhance the resilience of forests not only to fires but also to other threats such as pests, diseases, and extreme weather events.\n",
      "\n",
      "This comprehensive approach, when adapted to local conditions and integrated across different levels of governance and communities, can substantially increase forest resilience to wildfires.\n"
     ]
    }
   ],
   "source": [
    "def get_response_and_save(recommendation_user_prompt, save_path = None):\n",
    "    if os.path.exists(save_path):\n",
    "        # read the response from the file\n",
    "        with open(save_path, 'r') as f:\n",
    "            response = f.read()\n",
    "    else:\n",
    "        completion = client.chat.completions.create(\n",
    "            model=model,\n",
    "            messages=[\n",
    "                {\"role\": \"user\", \"content\": recommendation_user_prompt},\n",
    "            ]\n",
    "        )\n",
    "        response = completion.choices[0].message.content\n",
    "    \n",
    "    print(response)\n",
    "    with open(save_path, 'w') as f:\n",
    "        f.write(response)\n",
    "\n",
    "literature_search_user_prompt = \"Let's review some relevant literature.\"\n",
    "\n",
    "generic_recommendation_user_prompt = \"Develop recommendations to enhance forest resilience against wildfires.\"\n",
    "\n",
    "specific_recommendation_user_prompt = \"Develop recommendations for species selection and planting strategies to enhance forest resilience against wildfires.\"\n",
    "\n",
    "get_response_and_save(generic_recommendation_user_prompt, 'ablation_study/generic_recommendation_base.md')"
   ]
  },
  {
   "cell_type": "markdown",
   "metadata": {},
   "source": [
    "Now, we add the location and time from the user profile to the prompt to see how the model's predictions change."
   ]
  },
  {
   "cell_type": "code",
   "execution_count": 4,
   "metadata": {},
   "outputs": [
    {
     "name": "stdout",
     "output_type": "stream",
     "text": [
      "Given the location near Covington, VA, and the current conditions conducive to wildfires, future forest management strategies must integrate robust, long-term approaches to enhancing forest resilience. Using a timeframe of 5 to 10 years, here are several recommendations specifically tailored for the outlined region:\n",
      "\n",
      "1. **Fire-Adapted Ecosystem Promotion:**\n",
      "   - Develop and promote fire-adapted ecosystems by incorporating native species that are more resistant to fire. This includes the use of oak and hickory trees which tend to be more resilient against fires compared to other species like pines.\n",
      "\n",
      "2. **Controlled Burning:**\n",
      "   - Implement regular controlled or prescribed burns. These managed fires eliminate underbrush, dead trees, and leaf litter that contribute to wildfire intensity. This practice also helps certain species to germinate and thrive, thus maintaining the ecological balance.\n",
      "\n",
      "3. **Strategic Firebreaks:**\n",
      "   - Build and maintain natural and artificial firebreaks such as roads, open spaces, or barriers devoid of vegetation. These firebreaks can slow the spread of wildfires and provide safe access routes for firefighters and emergency services.\n",
      "\n",
      "4. **Community Engagement and Education:**\n",
      "   - Develop community awareness and educational programs about fire prevention and management. Workshops, training sessions, and school curricula can focus on how individuals can reduce wildfire risks through proper land management and personal safety practices.\n",
      "\n",
      "5. **Improved Surveillance and Monitoring:**\n",
      "   - Invest in enhanced surveillance systems such as satellite imagery, drones, and remote sensors to detect early signs of fire. This technology allows for rapid response and more accurate monitoring of forest health and fire dynamics.\n",
      "\n",
      "6. **Encourage Responsible Logging Practices:**\n",
      "   - Work with local logging companies to ensure that timber harvest methods enhance forest resilience. Practices like selective cutting can reduce fire risk by diminishing forest density while maintaining ecological integrity.\n",
      "\n",
      "7. **Restoration of Fire-Damaged Areas:**\n",
      "   - Undertake restoration projects post-wildfire to quickly reestablish vegetation, prevent soil erosion, and limit the spread of invasive species. This also includes the use of fire-resistant plants and trees during reforestation efforts.\n",
      "\n",
      "8. **Climate Adaptation Strategies:**\n",
      "   - Include climate adaptation into land and forest management planning. As climate change can alter fire frequency and intensity, strategies need to be adaptive and proactive to incorporate future climate scenarios.\n",
      "\n",
      "9. **Funding and Grants:**\n",
      "   - Seek federal and state grants aimed at forest conservation and fire management. Investing in innovative forest management solutions can provide long-term benefits.\n",
      "   \n",
      "10. **Partnerships and Collaborative Efforts:**\n",
      "    - Forge partnerships with local universities, environmental organizations, and governmental agencies. Collaborative research can lead to new insights and innovations in forest management and wildfire risk mitigation.\n",
      "\n",
      "These tailored recommendations aim to not only mitigate wildfire risks in the near Covington, VA area but also enhance the ecological and community resilience in the face of changing environmental conditions. By acting on these strategies within the next 5 to 10 years, significant progress can be achieved in promoting a healthier, safer forest environment.\n"
     ]
    }
   ],
   "source": [
    "generic_recommendation_user_prompt_with_location_and_time = f'''- **Location:** Near Covington, VA with Latitude 37.7935 and Longitude -79.9939.\n",
    "- **Time:** Recommendations to be implemented within the next 5 to 10 years.\n",
    "{generic_recommendation_user_prompt}'''\n",
    "\n",
    "get_response_and_save(generic_recommendation_user_prompt_with_location_and_time, 'ablation_study/generic_recommendation_location_time.md')"
   ]
  },
  {
   "cell_type": "code",
   "execution_count": 5,
   "metadata": {},
   "outputs": [
    {
     "name": "stdout",
     "output_type": "stream",
     "text": [
      "Enhancing forest resilience through species selection and planting strategies is crucial for mitigating the impacts of climate change, pests, diseases, and other environmental stressors. Strategic planning can help maintain forest health and biodiversity, ensuring they continue to provide ecosystem services such as carbon sequestration, habitat provision, and erosion control. Below are detailed recommendations for species selection and planting strategies to enhance forest resilience:\n",
      "\n",
      "### 1. **Species Selection**\n",
      "\n",
      "#### a. **Native Species**\n",
      "   - **Preference for Native Plants**: Choose native species that are well-adapted to the local climate and soil conditions. Native plants are more likely to coexist with local flora and fauna, supporting biodiversity.\n",
      "   - **Local Seed Sources**: Use seeds sourced from local or regional populations to ensure genetic compatibility with the area’s environmental conditions.\n",
      "\n",
      "#### b. **Diversity**\n",
      "   - **Species Diversity**: Incorporate a mix of species to reduce the risk of total forest loss from specific pests or diseases. Diverse forests are generally more resilient and productive.\n",
      "   - **Age Diversity**: Promote age diversity through staggered planting times or by preserving existing mature trees alongside new plantings. Different age groups respond differently to stress, aiding overall forest stability.\n",
      "\n",
      "#### c. **Climate-Adaptive Species**\n",
      "   - **Future Climate Considerations**: Select species predicted to thrive under future climatic conditions, based on climate projection models.\n",
      "   - **Heat and Drought-Resistant Varieties**: Include species that are tolerant to heat and drought, especially in areas expected to face increased temperatures and reduced rainfall.\n",
      "\n",
      "### 2. **Planting Strategies**\n",
      "\n",
      "#### a. **Mixed Planting**\n",
      "   - **Interspersed Species**: Avoid monocultures; instead, intermix various species to mimic natural ecosystems. This strategy prevents the spread of species-specific diseases and pests.\n",
      "   - **Use of Multiple Layers**: Incorporate multiple canopy layers (understory, midstory, and canopy) in the planting design to enhance ecological niches and wildlife support.\n",
      "\n",
      "#### b. **Protective Planting**\n",
      "   - **Buffer Zones**: Establish buffer zones with hardy species around vulnerable areas to protect more sensitive species from harsh wind, sunlight, or pollutants.\n",
      "   - **Windbreaks and Riparian Buffers**: Use specific tree species to form windbreaks and protect against soil erosion, or riparian buffers to maintain water quality and bank stability.\n",
      "\n",
      "#### c. **Assisted Migration**\n",
      "   - **Controlled Introduction**: In regions where climate conditions are rapidly changing, consider assisted migration for species with limited natural dispersal capacity. This should be done cautiously to avoid negative impacts on local ecosystems.\n",
      "\n",
      "#### d. **Site-Specific Strategies**\n",
      "   - **Soil and Topography**: Tailor planting strategies based on soil type, moisture levels, and topography. Recognize microclimates within the planting area and adjust the species selection accordingly.\n",
      "   - **Post-Planting Care**: Implement effective post-planting care, including watering, mulching, and protection from herbivory to ensure survival and healthy growth.\n",
      "\n",
      "### 3. **Monitoring and Adaptation**\n",
      "\n",
      "- **Regular Monitoring**: Continually monitor the health and growth of forests. Utilize adaptive management strategies to modify practices based on monitoring results and ongoing research.\n",
      "- **Research and Collaboration**: Collaborate with local universities, research institutes, and other forestry organizations to stay updated with the latest knowledge and technologies.\n",
      "\n",
      "### Conclusion\n",
      "\n",
      "The aim is to establish a robust, dynamic, and self-sustaining forest ecosystem that can withstand environmental pressures. Thoughtful species selection combined with strategic planting and continuous monitoring forms the foundation of a resilient forestry practice that supports ecological balance and long-term environmental goals. By incorporating these guidelines, forestry management can effectively adapt and mitigate the impacts of global changes.\n"
     ]
    }
   ],
   "source": [
    "get_response_and_save(specific_recommendation_user_prompt, 'ablation_study/specific_recommendation_base.md')"
   ]
  },
  {
   "cell_type": "code",
   "execution_count": 6,
   "metadata": {},
   "outputs": [
    {
     "name": "stdout",
     "output_type": "stream",
     "text": [
      "To enhance forest resilience near Covington, VA, it is crucial to select appropriate tree species and adopt effective planting strategies that consider the local climate, soil characteristics, potential pests, diseases, and future climatic shifts. Here is a comprehensive set of recommendations tailored for your specified location, considering a 5 to 10-year implementation window.\n",
      "\n",
      "### Tree Species Selection\n",
      "Choosing the right species is fundamental to increasing forest resilience. The species should be native (or well-adapted), have diverse age structures, and be capable of withstanding projected changes in climate and local environmental stressors.\n",
      "\n",
      "1. **Native Species:**\n",
      "   - **Eastern White Pine (Pinus strobus):** Tolerant to a range of soil types and conditions; fast-growing which can help in quick forest establishment.\n",
      "   - **American Beech (Fagus grandifolia):** Offers robustness and adaptability to different conditions, though it is susceptible to beech bark disease, so monitoring and preventive measures will be necessary.\n",
      "   - **Red Maple (Acer rubrum):** Highly adaptable to various soils and moisture conditions, and it has a good growth rate.\n",
      "   - **Tulip Poplar (Liriodendron tulipifera):** Known for its fast growth and tolerance to a broad range of climates, making it ideal for adapting to changing conditions.\n",
      "   - **White Oak (Quercus alba):** Vital for ecological stability, provides habitat and food for wildlife, and is durable under various environmental stressors.\n",
      "\n",
      "2. **Climate-adaptive Species:**\n",
      "   Consider species that are predicted to remain resilient under future climatic conditions. Using climate modeling tools like the USDA Plant Hardiness Zone Map and Forest Service models, select species that can adapt to warmer temperatures and variable precipitation patterns.\n",
      "\n",
      "### Planting Strategies\n",
      "Effective planting strategies are key to establishing a resilient forest ecosystem that can adapt to changes and disturbances.\n",
      "\n",
      "1. **Mixed Planting:**\n",
      "   Planting a mix of species will reduce the risk of total forest loss due to specific pests or diseases. Intersperse species that serve different ecological functions (e.g., nitrogen-fixing species like black locust if soil improvement is needed).\n",
      "\n",
      "2. **Age Diversification:**\n",
      "   Avoid monocultures of age and species. Plant trees in varied age groups to ensure forest continuity and resilience even if one cohort is affected by disease or climatic events.\n",
      "\n",
      "3. **Strategic Planting Locations:**\n",
      "   Choose planting sites considering future climate predictions. Areas with natural water access (like near streams or naturally moister areas) and elevated regions may be more resilient to heat and drought stresses.\n",
      "\n",
      "4. **Buffer Zones:**\n",
      "   Create buffer zones using tree species that are particularly resilient to wind and water erosion to protect more vulnerable species inside the forest.\n",
      "\n",
      "5. **Pest and Disease Management:**\n",
      "   Implement integrated pest management practices from the start. Monitor for common pests such as the Emerald Ash Borer and diseases like chestnut blight, and be ready to take action to prevent their spread.\n",
      "\n",
      "6. **Long-term Monitoring and Adjustments:**\n",
      "   Establish a monitoring program to track the health and growth of the forest. This will provide valuable data that can inform adaptive management strategies to cope with changing environmental conditions and help in making necessary adjustments to tree species selection and management practices.\n",
      "\n",
      "### Educational and Community Involvement\n",
      "Engage local communities and schools in the planting and subsequent care of new forests. This promotes environmental stewardship and provides educational opportunities regarding forest ecology and conservation.\n",
      "\n",
      "### Implementation Timeline\n",
      "- **Year 1-2:** Research and planning, community engagement, preparation of sites.\n",
      "- **Year 3-5:** Begin phased planting, starting with areas most ready and species most likely to establish quickly.\n",
      "- **Year 6-10:** Continue planting, begin intensive monitoring, and adjust strategies as necessary based on initial outcomes and updated climate models.\n",
      "\n",
      "By implementing these strategies, the forests near Covington, VA, can be made more resilient to future climatic and ecological changes, ensuring ecological sustainability and biodiversity conservation.\n"
     ]
    }
   ],
   "source": [
    "specific_recommendation_user_prompt_with_location_and_time = f'''- **Location:** Near Covington, VA with Latitude 37.7935 and Longitude -79.9939.\n",
    "- **Time:** Recommendations to be implemented within the next 5 to 10 years.\n",
    "{specific_recommendation_user_prompt}'''\n",
    "\n",
    "get_response_and_save(specific_recommendation_user_prompt_with_location_and_time, 'ablation_study/specific_recommendation_location_time.md')"
   ]
  },
  {
   "cell_type": "code",
   "execution_count": 7,
   "metadata": {},
   "outputs": [
    {
     "name": "stdout",
     "output_type": "stream",
     "text": [
      "- **Profession:** Power Grid Manager in Virginia.\n",
      "- **Concern:** Managing the forest, keeping it healthy, while maintaining transmission line clearance and grid resilience, and protecting properties from potential wildfires.\n",
      "- **Location:** Near Covington, VA with Latitude 37.7935 and Longitude -79.9939.\n",
      "- **Time:** Recommendations to be implemented within the next 5 to 10 years.\n",
      "- **Scope:** Management of the forest and properties to maximize power distribution reliability and access, and protect against potential wildfires.\n",
      "\n"
     ]
    }
   ],
   "source": [
    "# Now set the identify of the user\n",
    "user_identity = \"power_grid_manager\"\n",
    "\n",
    "def generate_profile(profile):\n",
    "    profile_text = template_profile.format(**profile)\n",
    "    return profile_text\n",
    "\n",
    "profile = generate_profile(profiles[user_identity])\n",
    "print(profile)"
   ]
  },
  {
   "cell_type": "code",
   "execution_count": 8,
   "metadata": {},
   "outputs": [
    {
     "name": "stdout",
     "output_type": "stream",
     "text": [
      "**Step 1**: Analyze the Recent fire incident data to understand recent trends and specific areas of higher fire incidence near Covington, VA. This will help in assessing the most vulnerable spots along the transmission lines and around residential areas that need urgent attention for vegetation management and infrastructure protection.\n",
      "\n",
      "**Step 2**: Use the Long term fire history records to gather insights into historical wildfire patterns in the area. This can offer a broader context of fire behavior over centuries, helping to predict potential future hotspots and periods of higher risk, which is crucial for long-term planning and resilience strategies.\n",
      "\n",
      "**Step 3**: Conduct a literature search focusing on effective strategies for vegetation management, forest health maintenance, and wildfire risk mitigation around power grids. This will include exploring practices such as controlled burns, vegetation clearance standards, and innovations in infrastructure design that enhance resilience to wildfires.\n",
      "\n",
      "**Step 4**: Based on the data analysis and best practices identified in scientific literature, provide recommendations tailored to improving forest management and enhancing the resilience of power transmission lines. This will include specific measures to ensure effective clearance around lines, techniques for early fire detection, and community engagement strategies to reduce the overall fire risk.\n"
     ]
    }
   ],
   "source": [
    "import os\n",
    "if not os.path.exists(f\"ablation_study/{user_identity}\"):\n",
    "    os.makedirs(f\"ablation_study/{user_identity}\")\n",
    "\n",
    "# load the plan if it exists\n",
    "if os.path.exists(f\"ablation_study/{user_identity}/plan.md\"):\n",
    "    with open(f\"ablation_study/{user_identity}/plan.md\", \"r\") as f:\n",
    "        plan = f.read()\n",
    "else:\n",
    "    plan = generate_plan(profile)\n",
    "    with open(f\"ablation_study/{user_identity}/plan.md\", \"w\") as f:\n",
    "        f.write(plan)\n",
    "\n",
    "print(plan)\n"
   ]
  },
  {
   "cell_type": "code",
   "execution_count": 9,
   "metadata": {},
   "outputs": [],
   "source": [
    "analyst_instruction = \"Here is the information about your client:\\n\\n{profile}\\n\\nHere is your overall plan to assist your client: {plan}\\n\\nHere is your client's last message: {user_prompt}\\n\\nHere is your plan for this step: {this_step}\\n\\nIf you give any recommendations, please provide the reasoning behind them and suggest the client to ask for supporting scientific evidence.\"\n",
    "\n",
    "this_step = {\n",
    "    'literature': \"Respond to the client's questions. Analyze literature. `literature_search`\", \n",
    "    'recommendation': \"Respond to the client's questions. Develop recommendations. `no tool needed`\"\n",
    "}"
   ]
  },
  {
   "cell_type": "code",
   "execution_count": 11,
   "metadata": {},
   "outputs": [
    {
     "name": "stdout",
     "output_type": "stream",
     "text": [
      "{'query': 'Effective strategies for vegetation management, forest health maintenance, and wildfire risk mitigation around power grids near Covington, VA'}\n"
     ]
    }
   ],
   "source": [
    "if not os.path.exists(f\"ablation_study/{user_identity}/literature_search_query.txt\"):\n",
    "\n",
    "    instrucion = analyst_instruction.format(profile=profile, plan=plan, user_prompt=literature_search_user_prompt, this_step=this_step['literature'])\n",
    "\n",
    "    thread = create_message_and_run_analyst_module(assistant, instrucion, literature_search_user_prompt, save_tool_request_path = f\"ablation_study/{user_identity}/literature_search_query.txt\")\n",
    "\n",
    "    # save the thread id to a file\n",
    "    with open(f\"ablation_study/{user_identity}/thread_id.txt\", \"w\") as f:\n",
    "        f.write(thread.id)\n",
    "else:\n",
    "    with open(f\"ablation_study/{user_identity}/literature_search_query.txt\", \"r\") as f:\n",
    "        query = json.loads(f.read())\n",
    "    print(query)\n",
    "    with open(f\"ablation_study/{user_identity}/thread_id.txt\", \"r\") as f:\n",
    "        thread_id = f.read()\n",
    "    thread = client.beta.threads.retrieve(thread_id)"
   ]
  },
  {
   "cell_type": "code",
   "execution_count": 12,
   "metadata": {},
   "outputs": [
    {
     "name": "stdout",
     "output_type": "stream",
     "text": [
      "In the face of increasing wildfire threats, particularly near critical infrastructure like power grids, the literature presents several comprehensive strategies for vegetation management and risk mitigation to enhance forest health and safety. For instance, Hvenegaard (2014) emphasizes the importance of long-term monitoring and data collection at fuel treatment sites to effectively manage vegetation and reduce wildfire risks. This approach is essential for areas like Covington, VA, where maintaining transmission line clearance and grid resilience is critical (Hvenegaard, 2014).\n",
      "\n",
      "Adding to the discussion, Dale (2006) critiques the current wildfire management policies, which mainly focus on fire suppression, leading to denser vegetation and more intense fires. Dale proposes the adoption of Wildland Fire Use (WFU), which leverages natural fires to meet specific resource management objectives, thus improving forest health and reducing management costs over time. This method could be particularly useful in maintaining healthier forests around power grids, ensuring a more resilient ecosystem against wildfires (Dale, 2006).\n",
      "\n",
      "Further north in Canada, Westhaver, Revel, and Hawkes (2007) introduce the FireSmart®-ForestWise approach, which balances wildfire risk reduction with wildlife habitat conservation. Although this study is centered on Jasper National Park, its principles can be adapted to manage the wildland/urban interface around Covington, ensuring that fuel treatments do not only focus on fire risk but also take into account ecological sustainability and wildlife needs (Westhaver, Revel, & Hawkes, 2007).\n",
      "\n",
      "These studies collectively offer a nuanced view of how vegetation management and wildfire risk mitigation can be implemented around critical infrastructure like power grids not just to protect against fires but also to promote an ecologically balanced approach that supports both human and wildlife needs.\n",
      "\n",
      "**References:**\n",
      "- Hvenegaard, S. (2014). Long-term monitoring programs and data-collection protocols for fuel treatment sites: a literature review.\n",
      "- Dale, L. (2006). Wildfire Policy and Fire Use on Public Lands in the United States. https://doi.org/10.1080/08941920500460898\n",
      "- Westhaver, A., Revel, R., & Hawkes, B. (2007). FireSmart®-ForestWise: Managing Wildlife and Wildfire Risk in the Wildland/Urban Interface-a Canadian Case Study.\n"
     ]
    }
   ],
   "source": [
    "# Please don't rush to run this cell. The cell above can have latency as we wait for the response from the OpenAI Assistant API.\n",
    "# It is a good idea to wait for half to one minutes before running this cell.\n",
    "\n",
    "# get last message from the thread\n",
    "\n",
    "if not os.path.exists(f\"ablation_study/{user_identity}/literature_search_result.md\"):\n",
    "    thread_messages = client.beta.threads.messages.list(thread.id)\n",
    "\n",
    "    response = thread_messages.data[0].content[0].text.value\n",
    "\n",
    "    with open(f\"ablation_study/{user_identity}/literature_search_result.md\", \"w\") as f:\n",
    "        f.write(response)\n",
    "else:\n",
    "    with open(f\"ablation_study/{user_identity}/literature_search_result.md\", \"r\") as f:\n",
    "        response = f.read()\n",
    "print(response)"
   ]
  },
  {
   "cell_type": "code",
   "execution_count": 13,
   "metadata": {},
   "outputs": [],
   "source": [
    "if os.path.exists(f\"ablation_study/{user_identity}/generic_recommendation.md\"):\n",
    "    with open(f\"ablation_study/{user_identity}/generic_recommendation.md\", \"r\") as f:\n",
    "        response = f.read()\n",
    "else:\n",
    "    instrucion = analyst_instruction.format(profile=profile, plan=plan, user_prompt=generic_recommendation_user_prompt, this_step=this_step['recommendation'])\n",
    "    thread = create_message_and_run_analyst_module(assistant, instrucion, generic_recommendation_user_prompt, thread)"
   ]
  },
  {
   "cell_type": "code",
   "execution_count": 14,
   "metadata": {},
   "outputs": [
    {
     "name": "stdout",
     "output_type": "stream",
     "text": [
      "To enhance forest resilience against wildfires near Covington, VA, especially around critical infrastructure like power grids, I recommend the following strategies based on the reviewed literature and best practices in the field:\n",
      "\n",
      "1. **Implement Long-term Monitoring and Data Collection:** Establish a continuous monitoring program that tracks vegetation health and wildfire risks in areas surrounding power grids. This should include periodic assessments of forest density, species composition, and fuel accumulation. Monitoring helps in making informed decisions and adapting strategies in response to dynamic environmental conditions (Hvenegaard, 2014).\n",
      "\n",
      "2. **Adopt an Integrated Fire Management Strategy:** Utilize a mix of suppression and managed wildfire approaches. Where conditions allow, use Wildland Fire Use (WFU) strategies to let naturally ignited fires burn under controlled conditions. This approach helps reduce fuel loads naturally, enhances forest health, and maintains ecological balance which can prevent severe wildfires (Dale, 2006).\n",
      "\n",
      "3. **Ecologically Sensitive Fuel Treatments:** Implement fuel reduction treatments that not only aim at reducing wildfire risk but also prioritize ecological health and wildlife conservation. Techniques could include controlled burns, thinning, and the removal of dead or dying trees. This approach can help retain the forest’s natural fire resistance and promote biodiversity, which is crucial for a resilient ecosystem (Westhaver, Revel, & Hawkes, 2007).\n",
      "\n",
      "4. **Community and Stakeholder Engagement:** Enhance community and stakeholder involvement through education and participatory management practices. Programs like FireSmart® can be localized to educate and involve residents in wildfire prevention practices, community preparedness, and resilience-building activities.\n",
      "\n",
      "5. **Invest in Research and Technology:** Utilize advanced technologies such as satellite imagery, drones for real-time monitoring, and AI-driven predictive analytics to forecast potential fire outbreaks and to plan proactive management strategies. This technology can be instrumental in quickly identifying changes in forest conditions that potentially heighten fire risk.\n",
      "\n",
      "6. **Develop Public Policy and Infrastructure Resilience:** Work with local governments to develop policies that encourage safer land-use planning and construction practices. Strengthen the resilience of power grid infrastructure by using fire-resistant materials and creating clear zone areas devoid of any large vegetation around the transmission lines.\n",
      "\n",
      "7. **Regular Training and Drills:** Conduct regular training sessions and drills for both the power grid management teams and local fire departments. This ensures all parties are well-prepared and can effectively collaborate during wildfire emergencies.\n",
      "\n",
      "Implementing these recommendations requires a multi-disciplinary approach and cooperation between various entities including forest management agencies, community leaders, environmental experts, and infrastructure managers. It’s essential these measures are adapted to the specific ecological and social context of Covington, VA, to enhance overall forest resilience and reduce wildfire risks effectively.\n"
     ]
    }
   ],
   "source": [
    "if not os.path.exists(f\"ablation_study/{user_identity}/generic_recommendation.md\"):\n",
    "    # get last message from the thread\n",
    "    thread_messages = client.beta.threads.messages.list(thread.id)\n",
    "    response = thread_messages.data[0].content[0].text.value\n",
    "\n",
    "    with open(f\"ablation_study/{user_identity}/generic_recommendation.md\", \"w\") as f:\n",
    "        f.write(response)\n",
    "        \n",
    "print(response)"
   ]
  },
  {
   "cell_type": "code",
   "execution_count": 15,
   "metadata": {},
   "outputs": [],
   "source": [
    "if os.path.exists(f\"ablation_study/{user_identity}/specific_recommendation.md\"):\n",
    "    with open(f\"ablation_study/{user_identity}/specific_recommendation.md\", \"r\") as f:\n",
    "        response = f.read()\n",
    "else:\n",
    "    instrucion = analyst_instruction.format(profile=profile, plan=plan, user_prompt=specific_recommendation_user_prompt, this_step=this_step['recommendation'])\n",
    "\n",
    "    thread = create_message_and_run_analyst_module(assistant, instrucion, specific_recommendation_user_prompt, thread)"
   ]
  },
  {
   "cell_type": "code",
   "execution_count": 16,
   "metadata": {},
   "outputs": [
    {
     "name": "stdout",
     "output_type": "stream",
     "text": [
      "To enhance forest resilience against wildfires, particularly in areas near power grids around Covington, VA, it is crucial to strategically select and manage vegetation species. Here are detailed recommendations for species selection and planting strategies:\n",
      "\n",
      "### Species Selection Recommendations\n",
      "\n",
      "1. **Choose Fire-Resistant Species:** Opt for tree and shrub species that are inherently more resistant to fire. These species typically have traits such as high moisture content in leaves, minimal accumulation of dead material, thick bark to protect against heat, and leaves that are less flammable. Examples include:\n",
      "   - Deciduous trees like maple, poplar, and cherry, which generally have higher moisture content and slower ignition rates.\n",
      "   - Hardwoods such as oak and ash, which are more resistant to fire compared to softwoods like pine and fir.\n",
      "\n",
      "2. **Diversity in Planting:** Plant a diverse array of species to prevent pest outbreaks and ensure ecological balance. A monoculture forest is more susceptible to being wiped out by fire, whereas a diverse ecosystem has better overall resilience and recovery capabilities.\n",
      "\n",
      "3. **Native Species Preference:** Prioritize native species as they are adapted to the local climate and soil conditions, making them more likely to thrive without extensive maintenance. Native plants also support local wildlife and help maintain the ecological integrity of the area.\n",
      "\n",
      "### Planting Strategies\n",
      "\n",
      "1. **Strategic Layout:** Arrange vegetation in a manner that naturally impedes the spread of fire. This includes creating natural firebreaks like wide paths or streams and spacing groups of trees and shrubs sufficiently apart to prevent fires from easily jumping across.\n",
      "   \n",
      "2. **Zoning Vegetation:** Implement zoning around critical infrastructure. Ensure high-risk areas, particularly around power lines, are clear of any tall or flammable vegetation. Use low-growing and fire-resistant ground cover to minimize fire hazards.\n",
      "\n",
      "3. **Regular Pruning and Maintenance:** Maintain a routine that includes pruning and removing dead or dying branches to reduce the fuel load. Keeping the forest understorey clear of debris can significantly decrease the fire risk.\n",
      "\n",
      "4. **Controlled Burns and Thinning:** Use controlled burns judiciously as part of a forest management program to reduce fuel buildup and encourage the growth of fire-resistant plant species. Thinning out trees can reduce competition for resources and improve the health and spacing of the remaining trees, making them less prone to catching and spreading fire.\n",
      "\n",
      "5. **Reforestation and Recovery:** Post-wildfire, focus on reforesting with fire-resistant species. This not only helps in quick recovery of the forest but also enhances its resilience against future fires. Analyze the burned area to understand which species survived better and incorporate these insights into future planting strategies.\n",
      "\n",
      "### Monitoring and Adaptation\n",
      "\n",
      "- **Continuous Monitoring:** Regularly monitor the health and growth of planted forests. Use satellite imagery and drones for a broader perspective on forest conditions.\n",
      "- **Feedback and Adaptation:** Adapt the species selection and planting strategies based on ongoing research and feedback from implemented practices to continually improve forest resilience.\n",
      "\n",
      "These recommendations are rooted in a holistic view of forest management aimed at creating and maintaining landscapes that are not only aesthetically pleasing and ecologically diverse but also strategically optimized to reduce the threat and impact of wildfires.\n",
      "\n"
     ]
    }
   ],
   "source": [
    "# get last message from the thread\n",
    "if not os.path.exists(f\"ablation_study/{user_identity}/specific_recommendation.md\"):\n",
    "    thread_messages = client.beta.threads.messages.list(thread.id)\n",
    "    response = thread_messages.data[0].content[0].text.value\n",
    "    with open(f\"ablation_study/{user_identity}/specific_recommendation.md\", \"w\") as f:\n",
    "        f.write(response)\n",
    "        \n",
    "print(response)"
   ]
  }
 ],
 "metadata": {
  "kernelspec": {
   "display_name": "src-KW4cdEL7-py3.11",
   "language": "python",
   "name": "python3"
  },
  "language_info": {
   "codemirror_mode": {
    "name": "ipython",
    "version": 3
   },
   "file_extension": ".py",
   "mimetype": "text/x-python",
   "name": "python",
   "nbconvert_exporter": "python",
   "pygments_lexer": "ipython3",
   "version": "3.11.6"
  }
 },
 "nbformat": 4,
 "nbformat_minor": 2
}
